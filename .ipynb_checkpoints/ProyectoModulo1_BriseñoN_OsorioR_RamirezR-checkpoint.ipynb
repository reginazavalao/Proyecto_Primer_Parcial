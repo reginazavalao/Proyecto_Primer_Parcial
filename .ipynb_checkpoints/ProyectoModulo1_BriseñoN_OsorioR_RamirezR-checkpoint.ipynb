{
 "cells": [
  {
   "cell_type": "markdown",
   "metadata": {},
   "source": [
    "# Optimización de terreno para proyecto constructivo \n"
   ]
  },
  {
   "cell_type": "markdown",
   "metadata": {},
   "source": [
    "## Objetivo General\n",
    "*****\n",
    ">Optimizar de forma matemática el trazo de un terreno, que se desea dividir en varios terrenos iguales para construir casas de $200 m^2$, haciendo uso de programación.\n"
   ]
  },
  {
   "cell_type": "markdown",
   "metadata": {},
   "source": [
    "### Objetivos Específicos\n",
    "***\n",
    ">Optimizar dejando $3m$ de servidumbre en los lados verticales del terreno y $10m$ en los lados horizontales.\n",
    "\n",
    ">Calcular los puntos críticos de la función para obtener el mínimo.\n",
    "\n",
    ">Graficar los resultados.\n",
    "\n",
    ">Obtener las dimensiones necesarias para que el área de los terrenos sea mínima.\n",
    "\n",
    ">Obtener el área del terreno, necesaria para construir una casa."
   ]
  },
  {
   "cell_type": "markdown",
   "metadata": {},
   "source": [
    "### Restricciones\n",
    "***\n",
    "Siendo **_\"x\"_ (horizontal)** y **_\"y\"_ (vertical)**, los lados del terreno (sin contar el espacio entre la casa y la limitación).\n",
    "\n",
    "\n",
    ">Lado horizontal más márgenes laterales:\n",
    "$$x+3+3=x+6$$\n",
    "\n",
    "\n",
    ">Lado vertical más márgenes superior e inferior:\n",
    "$$y+10+10=y+20$$\n",
    "\n",
    "\n",
    ">Superficie para construcción sin tomar en cuenta márgenes:\n",
    "$$x*y=200m^2$$\n",
    "\n",
    "\n",
    ">Obteniendo de ecuación anterior **y** en funcion de **x**:\n",
    "$$y=200m^2/x$$\n",
    "\n",
    "\n",
    ">La fórmula del área es:\n",
    "$$A(x)=(x+6)(y+20)$$"
   ]
  },
  {
   "cell_type": "markdown",
   "metadata": {},
   "source": [
    "### Modelo a minimizar\n",
    "***\n",
    "Sustituyendo **_\"y\"_**  :\n",
    "$$A(x)=(x+6)(200/x+20)$$\n",
    "\n",
    "\n",
    "Modelo:\n",
    "$$ A(x)=320+ 1200/x +20x$$\n",
    "\n",
    "\n",
    "$$x>0$$"
   ]
  },
  {
   "cell_type": "markdown",
   "metadata": {},
   "source": [
    "### Solución \n",
    "***"
   ]
  },
  {
   "cell_type": "code",
   "execution_count": 1,
   "metadata": {},
   "outputs": [],
   "source": [
    "import sympy as sym \n",
    "import numpy as np\n",
    "import matplotlib.pyplot as plt\n"
   ]
  },
  {
   "cell_type": "code",
   "execution_count": 3,
   "metadata": {},
   "outputs": [
    {
     "data": {
      "text/latex": [
       "$\\displaystyle x$"
      ],
      "text/plain": [
       "x"
      ]
     },
     "execution_count": 3,
     "metadata": {},
     "output_type": "execute_result"
    }
   ],
   "source": [
    "def A(x):\n",
    "    return 320+(1200/x)+20*x\n",
    "sym.var(\"x\", real=True)"
   ]
  },
  {
   "cell_type": "code",
   "execution_count": 4,
   "metadata": {},
   "outputs": [
    {
     "data": {
      "text/latex": [
       "$\\displaystyle 20 x + 320 + \\frac{1200}{x}$"
      ],
      "text/plain": [
       "20*x + 320 + 1200/x"
      ]
     },
     "execution_count": 4,
     "metadata": {},
     "output_type": "execute_result"
    }
   ],
   "source": [
    "A(x)"
   ]
  },
  {
   "cell_type": "code",
   "execution_count": 8,
   "metadata": {},
   "outputs": [
    {
     "data": {
      "text/plain": [
       "[-2*sqrt(15), 2*sqrt(15)]"
      ]
     },
     "execution_count": 8,
     "metadata": {},
     "output_type": "execute_result"
    }
   ],
   "source": [
    "dA=sym.diff(A(x),x)\n",
    "c=sym.solve(dA,x)\n",
    "c\n"
   ]
  },
  {
   "cell_type": "markdown",
   "metadata": {},
   "source": [
    ">El resultado debe de estar en el rango de los relaes positivos ya que tenemos medidas, por lo que se elige el resultado c[1]"
   ]
  },
  {
   "cell_type": "code",
   "execution_count": 10,
   "metadata": {},
   "outputs": [
    {
     "data": {
      "text/latex": [
       "$\\displaystyle 2 \\sqrt{15}$"
      ],
      "text/plain": [
       "2*sqrt(15)"
      ]
     },
     "execution_count": 10,
     "metadata": {},
     "output_type": "execute_result"
    }
   ],
   "source": [
    "c[1]"
   ]
  },
  {
   "cell_type": "markdown",
   "metadata": {},
   "source": [
    "### Visualización de la solución\n",
    "***"
   ]
  },
  {
   "cell_type": "code",
   "execution_count": 11,
   "metadata": {},
   "outputs": [],
   "source": [
    "xnum=np.linspace(1,10,20)\n",
    "ynum=A(xnum)"
   ]
  },
  {
   "cell_type": "code",
   "execution_count": 13,
   "metadata": {},
   "outputs": [
    {
     "data": {
      "image/png": "[encoded data removed]",
      "text/plain": [
       "<Figure size 360x360 with 1 Axes>"
      ]
     },
     "metadata": {
      "needs_background": "light"
     },
     "output_type": "display_data"
    }
   ],
   "source": [
    "plt.figure(figsize=(5,5))\n",
    "plt.plot(xnum, ynum)\n",
    "plt.plot(c[1],A(c[1]),\"r*\",ms=5)\n",
    "plt.grid()"
   ]
  },
  {
   "cell_type": "markdown",
   "metadata": {},
   "source": [
    ">En la gráfica se muestra el mínimo que necesitamos para la resolución del prolema "
   ]
  },
  {
   "cell_type": "code",
   "execution_count": 16,
   "metadata": {},
   "outputs": [
    {
     "data": {
      "text/latex": [
       "$\\displaystyle \\frac{20 \\sqrt{15}}{3}$"
      ],
      "text/plain": [
       "20*sqrt(15)/3"
      ]
     },
     "execution_count": 16,
     "metadata": {},
     "output_type": "execute_result"
    }
   ],
   "source": [
    "#Obteniendo y=200m^2/x\n",
    "y=200/c[1]\n",
    "y"
   ]
  },
  {
   "cell_type": "code",
   "execution_count": 20,
   "metadata": {},
   "outputs": [
    {
     "data": {
      "text/latex": [
       "$\\displaystyle 6 + 2 \\sqrt{15}$"
      ],
      "text/plain": [
       "6 + 2*sqrt(15)"
      ]
     },
     "execution_count": 20,
     "metadata": {},
     "output_type": "execute_result"
    }
   ],
   "source": [
    "#Obteniendo dimensiones con márgenes\n",
    "#Lado horizontal x+6\n",
    "h=c[1]+6\n",
    "h"
   ]
  },
  {
   "cell_type": "code",
   "execution_count": 21,
   "metadata": {},
   "outputs": [
    {
     "data": {
      "text/latex": [
       "$\\displaystyle 20 + \\frac{20 \\sqrt{15}}{3}$"
      ],
      "text/plain": [
       "20 + 20*sqrt(15)/3"
      ]
     },
     "execution_count": 21,
     "metadata": {},
     "output_type": "execute_result"
    }
   ],
   "source": [
    "#Obteniendo dimensiones con márgenes \n",
    "#Lado vertical y+20\n",
    "v=y+20\n",
    "v"
   ]
  },
  {
   "cell_type": "code",
   "execution_count": 23,
   "metadata": {},
   "outputs": [
    {
     "data": {
      "text/latex": [
       "$\\displaystyle \\left(6 + 2 \\sqrt{15}\\right) \\left(20 + \\frac{20 \\sqrt{15}}{3}\\right)$"
      ],
      "text/plain": [
       "(6 + 2*sqrt(15))*(20 + 20*sqrt(15)/3)"
      ]
     },
     "execution_count": 23,
     "metadata": {},
     "output_type": "execute_result"
    }
   ],
   "source": [
    "#Obteniendo Área total del terreno \n",
    "At=h*v\n",
    "At"
   ]
  },
  {
   "cell_type": "markdown",
   "metadata": {},
   "source": [
    "### Resultados \n",
    "***\n",
    "Según los datos arrojados anteriormente, para cumplir lo requerido; el terreno para cada casa, deberá medir:\n",
    "\n",
    ">13.75m horizontales \n",
    "\n",
    ">45.81m verticales \n",
    "\n",
    ">El Área total de cada terreno será de $$629.83m^2$$"
   ]
  },
  {
   "cell_type": "markdown",
   "metadata": {},
   "source": [
    "### Conclusiones \n",
    "***\n",
    "\n",
    ">Podemos notar como el hacer uso de la programación hace muchísimo más eficiente dar solución a un problema. \n",
    "\n",
    ">También se puede notar como las medidas obtenidas son las mínimas, que es realmente lo que estabamos buscando, sabiendo que se cumplieron las restricciones que pone la legislación para el trazo."
   ]
  },
  {
   "cell_type": "markdown",
   "metadata": {},
   "source": [
    "### Referencias\n",
    "***\n",
    "\n",
    ">Llopis, J.. (2010). Problemas de Optimización. septiembre 23, 2020, de Matesfacil Sitio web: https://www.matesfacil.com/BAC/optimizar/problemas-resueltos-optimizar-extremos-maximo-minimo-derivada-creciente-decreciente-monotonia.html"
   ]
  }
 ],
 "metadata": {
  "kernelspec": {
   "display_name": "Python 3",
   "language": "python",
   "name": "python3"
  },
  "language_info": {
   "codemirror_mode": {
    "name": "ipython",
    "version": 3
   },
   "file_extension": ".py",
   "mimetype": "text/x-python",
   "name": "python",
   "nbconvert_exporter": "python",
   "pygments_lexer": "ipython3",
   "version": "3.7.4"
  }
 },
 "nbformat": 4,
 "nbformat_minor": 4
}
